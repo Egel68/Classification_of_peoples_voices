{
 "cells": [
  {
   "cell_type": "code",
   "execution_count": 132,
   "id": "bda1dd1f",
   "metadata": {},
   "outputs": [],
   "source": [
    "import pandas as pd\n",
    "import numpy as np\n",
    "import sklearn.preprocessing, sklearn.ensemble, sklearn.feature_selection, sklearn.model_selection \n",
    "import sklearn.metrics, sklearn.linear_model, sklearn.pipeline"
   ]
  },
  {
   "cell_type": "code",
   "execution_count": 134,
   "id": "1302c554",
   "metadata": {},
   "outputs": [],
   "source": [
    "df = pd.read_csv(\"dataset.csv\")\n",
    "df = df.iloc[:, :-1]\n",
    "df[\"filename\"] = df[\"filename\"].str[:-4]\n",
    "\n",
    "target = pd.read_csv(\"targets.tsv\", sep=\"\\t\")\n",
    "\n",
    "df = df.merge(target)"
   ]
  },
  {
   "cell_type": "markdown",
   "id": "e6897908",
   "metadata": {},
   "source": [
    "Selecting features and preprocessing"
   ]
  },
  {
   "cell_type": "code",
   "execution_count": 67,
   "id": "5a2a0fd2",
   "metadata": {},
   "outputs": [],
   "source": [
    "estimator = AdaBoostClassifier(learning_rate=1, n_estimators=100)\n",
    "selector = RFECV(estimator, n_jobs=-1)\n",
    "X = df.iloc[:, 1:-1]\n",
    "Y = df.iloc[:, -1]\n",
    "X_new = selector.fit_transform(X, Y)"
   ]
  },
  {
   "cell_type": "code",
   "execution_count": 123,
   "id": "bb5d98a8",
   "metadata": {},
   "outputs": [],
   "source": [
    "sc = StandardScaler()\n",
    "X_sd_new = sc.fit_transform(X_new)"
   ]
  },
  {
   "cell_type": "code",
   "execution_count": 69,
   "id": "08b68485",
   "metadata": {},
   "outputs": [
    {
     "data": {
      "text/plain": [
       "array([ 1,  8,  1,  1,  6,  1,  1,  5,  1,  1,  1,  1,  1,  4,  1,  1,  2,\n",
       "       10,  1,  1,  1,  1,  1,  3,  1,  1,  1,  1, 11,  9,  1,  1,  1,  1,\n",
       "        1,  1,  1,  1,  1,  1,  1,  1,  1,  7,  1])"
      ]
     },
     "execution_count": 69,
     "metadata": {},
     "output_type": "execute_result"
    }
   ],
   "source": [
    "selector.ranking_"
   ]
  },
  {
   "cell_type": "code",
   "execution_count": 135,
   "id": "26bdb73d",
   "metadata": {},
   "outputs": [
    {
     "data": {
      "text/plain": [
       "(13936, 35)"
      ]
     },
     "execution_count": 135,
     "metadata": {},
     "output_type": "execute_result"
    }
   ],
   "source": [
    "selector.support_\n",
    "X_sd_new.shape"
   ]
  },
  {
   "cell_type": "code",
   "execution_count": 71,
   "id": "75bfca35",
   "metadata": {},
   "outputs": [],
   "source": [
    "x_train, x_test, y_train, y_test = train_test_split(X_sd_new, Y, test_size=0.05, random_state=0)"
   ]
  },
  {
   "cell_type": "code",
   "execution_count": 72,
   "id": "8db8c08a",
   "metadata": {},
   "outputs": [],
   "source": [
    "rd_forest = RandomForestClassifier(n_jobs=-1, n_estimators=100, max_depth=15, criterion=\"entropy\")\n",
    "logit = LogisticRegression(C=100)\n",
    "clf = AdaBoostClassifier(estimator=logit, learning_rate=0.5, n_estimators=100)\n",
    "SVM = SGDClassifier()"
   ]
  },
  {
   "cell_type": "code",
   "execution_count": 73,
   "id": "15dca02a",
   "metadata": {},
   "outputs": [
    {
     "data": {
      "text/html": [
       "<style>#sk-container-id-5 {color: black;background-color: white;}#sk-container-id-5 pre{padding: 0;}#sk-container-id-5 div.sk-toggleable {background-color: white;}#sk-container-id-5 label.sk-toggleable__label {cursor: pointer;display: block;width: 100%;margin-bottom: 0;padding: 0.3em;box-sizing: border-box;text-align: center;}#sk-container-id-5 label.sk-toggleable__label-arrow:before {content: \"▸\";float: left;margin-right: 0.25em;color: #696969;}#sk-container-id-5 label.sk-toggleable__label-arrow:hover:before {color: black;}#sk-container-id-5 div.sk-estimator:hover label.sk-toggleable__label-arrow:before {color: black;}#sk-container-id-5 div.sk-toggleable__content {max-height: 0;max-width: 0;overflow: hidden;text-align: left;background-color: #f0f8ff;}#sk-container-id-5 div.sk-toggleable__content pre {margin: 0.2em;color: black;border-radius: 0.25em;background-color: #f0f8ff;}#sk-container-id-5 input.sk-toggleable__control:checked~div.sk-toggleable__content {max-height: 200px;max-width: 100%;overflow: auto;}#sk-container-id-5 input.sk-toggleable__control:checked~label.sk-toggleable__label-arrow:before {content: \"▾\";}#sk-container-id-5 div.sk-estimator input.sk-toggleable__control:checked~label.sk-toggleable__label {background-color: #d4ebff;}#sk-container-id-5 div.sk-label input.sk-toggleable__control:checked~label.sk-toggleable__label {background-color: #d4ebff;}#sk-container-id-5 input.sk-hidden--visually {border: 0;clip: rect(1px 1px 1px 1px);clip: rect(1px, 1px, 1px, 1px);height: 1px;margin: -1px;overflow: hidden;padding: 0;position: absolute;width: 1px;}#sk-container-id-5 div.sk-estimator {font-family: monospace;background-color: #f0f8ff;border: 1px dotted black;border-radius: 0.25em;box-sizing: border-box;margin-bottom: 0.5em;}#sk-container-id-5 div.sk-estimator:hover {background-color: #d4ebff;}#sk-container-id-5 div.sk-parallel-item::after {content: \"\";width: 100%;border-bottom: 1px solid gray;flex-grow: 1;}#sk-container-id-5 div.sk-label:hover label.sk-toggleable__label {background-color: #d4ebff;}#sk-container-id-5 div.sk-serial::before {content: \"\";position: absolute;border-left: 1px solid gray;box-sizing: border-box;top: 0;bottom: 0;left: 50%;z-index: 0;}#sk-container-id-5 div.sk-serial {display: flex;flex-direction: column;align-items: center;background-color: white;padding-right: 0.2em;padding-left: 0.2em;position: relative;}#sk-container-id-5 div.sk-item {position: relative;z-index: 1;}#sk-container-id-5 div.sk-parallel {display: flex;align-items: stretch;justify-content: center;background-color: white;position: relative;}#sk-container-id-5 div.sk-item::before, #sk-container-id-5 div.sk-parallel-item::before {content: \"\";position: absolute;border-left: 1px solid gray;box-sizing: border-box;top: 0;bottom: 0;left: 50%;z-index: -1;}#sk-container-id-5 div.sk-parallel-item {display: flex;flex-direction: column;z-index: 1;position: relative;background-color: white;}#sk-container-id-5 div.sk-parallel-item:first-child::after {align-self: flex-end;width: 50%;}#sk-container-id-5 div.sk-parallel-item:last-child::after {align-self: flex-start;width: 50%;}#sk-container-id-5 div.sk-parallel-item:only-child::after {width: 0;}#sk-container-id-5 div.sk-dashed-wrapped {border: 1px dashed gray;margin: 0 0.4em 0.5em 0.4em;box-sizing: border-box;padding-bottom: 0.4em;background-color: white;}#sk-container-id-5 div.sk-label label {font-family: monospace;font-weight: bold;display: inline-block;line-height: 1.2em;}#sk-container-id-5 div.sk-label-container {text-align: center;}#sk-container-id-5 div.sk-container {/* jupyter's `normalize.less` sets `[hidden] { display: none; }` but bootstrap.min.css set `[hidden] { display: none !important; }` so we also need the `!important` here to be able to override the default hidden behavior on the sphinx rendered scikit-learn.org. See: https://github.com/scikit-learn/scikit-learn/issues/21755 */display: inline-block !important;position: relative;}#sk-container-id-5 div.sk-text-repr-fallback {display: none;}</style><div id=\"sk-container-id-5\" class=\"sk-top-container\"><div class=\"sk-text-repr-fallback\"><pre>RandomForestClassifier(criterion=&#x27;entropy&#x27;, max_depth=15, n_jobs=-1)</pre><b>In a Jupyter environment, please rerun this cell to show the HTML representation or trust the notebook. <br />On GitHub, the HTML representation is unable to render, please try loading this page with nbviewer.org.</b></div><div class=\"sk-container\" hidden><div class=\"sk-item\"><div class=\"sk-estimator sk-toggleable\"><input class=\"sk-toggleable__control sk-hidden--visually\" id=\"sk-estimator-id-7\" type=\"checkbox\" checked><label for=\"sk-estimator-id-7\" class=\"sk-toggleable__label sk-toggleable__label-arrow\">RandomForestClassifier</label><div class=\"sk-toggleable__content\"><pre>RandomForestClassifier(criterion=&#x27;entropy&#x27;, max_depth=15, n_jobs=-1)</pre></div></div></div></div></div>"
      ],
      "text/plain": [
       "RandomForestClassifier(criterion='entropy', max_depth=15, n_jobs=-1)"
      ]
     },
     "execution_count": 73,
     "metadata": {},
     "output_type": "execute_result"
    }
   ],
   "source": [
    "rd_forest.fit(x_train, y_train)"
   ]
  },
  {
   "cell_type": "code",
   "execution_count": 74,
   "id": "064aed18",
   "metadata": {},
   "outputs": [
    {
     "data": {
      "text/html": [
       "<style>#sk-container-id-6 {color: black;background-color: white;}#sk-container-id-6 pre{padding: 0;}#sk-container-id-6 div.sk-toggleable {background-color: white;}#sk-container-id-6 label.sk-toggleable__label {cursor: pointer;display: block;width: 100%;margin-bottom: 0;padding: 0.3em;box-sizing: border-box;text-align: center;}#sk-container-id-6 label.sk-toggleable__label-arrow:before {content: \"▸\";float: left;margin-right: 0.25em;color: #696969;}#sk-container-id-6 label.sk-toggleable__label-arrow:hover:before {color: black;}#sk-container-id-6 div.sk-estimator:hover label.sk-toggleable__label-arrow:before {color: black;}#sk-container-id-6 div.sk-toggleable__content {max-height: 0;max-width: 0;overflow: hidden;text-align: left;background-color: #f0f8ff;}#sk-container-id-6 div.sk-toggleable__content pre {margin: 0.2em;color: black;border-radius: 0.25em;background-color: #f0f8ff;}#sk-container-id-6 input.sk-toggleable__control:checked~div.sk-toggleable__content {max-height: 200px;max-width: 100%;overflow: auto;}#sk-container-id-6 input.sk-toggleable__control:checked~label.sk-toggleable__label-arrow:before {content: \"▾\";}#sk-container-id-6 div.sk-estimator input.sk-toggleable__control:checked~label.sk-toggleable__label {background-color: #d4ebff;}#sk-container-id-6 div.sk-label input.sk-toggleable__control:checked~label.sk-toggleable__label {background-color: #d4ebff;}#sk-container-id-6 input.sk-hidden--visually {border: 0;clip: rect(1px 1px 1px 1px);clip: rect(1px, 1px, 1px, 1px);height: 1px;margin: -1px;overflow: hidden;padding: 0;position: absolute;width: 1px;}#sk-container-id-6 div.sk-estimator {font-family: monospace;background-color: #f0f8ff;border: 1px dotted black;border-radius: 0.25em;box-sizing: border-box;margin-bottom: 0.5em;}#sk-container-id-6 div.sk-estimator:hover {background-color: #d4ebff;}#sk-container-id-6 div.sk-parallel-item::after {content: \"\";width: 100%;border-bottom: 1px solid gray;flex-grow: 1;}#sk-container-id-6 div.sk-label:hover label.sk-toggleable__label {background-color: #d4ebff;}#sk-container-id-6 div.sk-serial::before {content: \"\";position: absolute;border-left: 1px solid gray;box-sizing: border-box;top: 0;bottom: 0;left: 50%;z-index: 0;}#sk-container-id-6 div.sk-serial {display: flex;flex-direction: column;align-items: center;background-color: white;padding-right: 0.2em;padding-left: 0.2em;position: relative;}#sk-container-id-6 div.sk-item {position: relative;z-index: 1;}#sk-container-id-6 div.sk-parallel {display: flex;align-items: stretch;justify-content: center;background-color: white;position: relative;}#sk-container-id-6 div.sk-item::before, #sk-container-id-6 div.sk-parallel-item::before {content: \"\";position: absolute;border-left: 1px solid gray;box-sizing: border-box;top: 0;bottom: 0;left: 50%;z-index: -1;}#sk-container-id-6 div.sk-parallel-item {display: flex;flex-direction: column;z-index: 1;position: relative;background-color: white;}#sk-container-id-6 div.sk-parallel-item:first-child::after {align-self: flex-end;width: 50%;}#sk-container-id-6 div.sk-parallel-item:last-child::after {align-self: flex-start;width: 50%;}#sk-container-id-6 div.sk-parallel-item:only-child::after {width: 0;}#sk-container-id-6 div.sk-dashed-wrapped {border: 1px dashed gray;margin: 0 0.4em 0.5em 0.4em;box-sizing: border-box;padding-bottom: 0.4em;background-color: white;}#sk-container-id-6 div.sk-label label {font-family: monospace;font-weight: bold;display: inline-block;line-height: 1.2em;}#sk-container-id-6 div.sk-label-container {text-align: center;}#sk-container-id-6 div.sk-container {/* jupyter's `normalize.less` sets `[hidden] { display: none; }` but bootstrap.min.css set `[hidden] { display: none !important; }` so we also need the `!important` here to be able to override the default hidden behavior on the sphinx rendered scikit-learn.org. See: https://github.com/scikit-learn/scikit-learn/issues/21755 */display: inline-block !important;position: relative;}#sk-container-id-6 div.sk-text-repr-fallback {display: none;}</style><div id=\"sk-container-id-6\" class=\"sk-top-container\"><div class=\"sk-text-repr-fallback\"><pre>LogisticRegression(C=100)</pre><b>In a Jupyter environment, please rerun this cell to show the HTML representation or trust the notebook. <br />On GitHub, the HTML representation is unable to render, please try loading this page with nbviewer.org.</b></div><div class=\"sk-container\" hidden><div class=\"sk-item\"><div class=\"sk-estimator sk-toggleable\"><input class=\"sk-toggleable__control sk-hidden--visually\" id=\"sk-estimator-id-8\" type=\"checkbox\" checked><label for=\"sk-estimator-id-8\" class=\"sk-toggleable__label sk-toggleable__label-arrow\">LogisticRegression</label><div class=\"sk-toggleable__content\"><pre>LogisticRegression(C=100)</pre></div></div></div></div></div>"
      ],
      "text/plain": [
       "LogisticRegression(C=100)"
      ]
     },
     "execution_count": 74,
     "metadata": {},
     "output_type": "execute_result"
    }
   ],
   "source": [
    "logit.fit(x_train, y_train)"
   ]
  },
  {
   "cell_type": "code",
   "execution_count": 75,
   "id": "c1e45621",
   "metadata": {},
   "outputs": [
    {
     "data": {
      "text/html": [
       "<style>#sk-container-id-7 {color: black;background-color: white;}#sk-container-id-7 pre{padding: 0;}#sk-container-id-7 div.sk-toggleable {background-color: white;}#sk-container-id-7 label.sk-toggleable__label {cursor: pointer;display: block;width: 100%;margin-bottom: 0;padding: 0.3em;box-sizing: border-box;text-align: center;}#sk-container-id-7 label.sk-toggleable__label-arrow:before {content: \"▸\";float: left;margin-right: 0.25em;color: #696969;}#sk-container-id-7 label.sk-toggleable__label-arrow:hover:before {color: black;}#sk-container-id-7 div.sk-estimator:hover label.sk-toggleable__label-arrow:before {color: black;}#sk-container-id-7 div.sk-toggleable__content {max-height: 0;max-width: 0;overflow: hidden;text-align: left;background-color: #f0f8ff;}#sk-container-id-7 div.sk-toggleable__content pre {margin: 0.2em;color: black;border-radius: 0.25em;background-color: #f0f8ff;}#sk-container-id-7 input.sk-toggleable__control:checked~div.sk-toggleable__content {max-height: 200px;max-width: 100%;overflow: auto;}#sk-container-id-7 input.sk-toggleable__control:checked~label.sk-toggleable__label-arrow:before {content: \"▾\";}#sk-container-id-7 div.sk-estimator input.sk-toggleable__control:checked~label.sk-toggleable__label {background-color: #d4ebff;}#sk-container-id-7 div.sk-label input.sk-toggleable__control:checked~label.sk-toggleable__label {background-color: #d4ebff;}#sk-container-id-7 input.sk-hidden--visually {border: 0;clip: rect(1px 1px 1px 1px);clip: rect(1px, 1px, 1px, 1px);height: 1px;margin: -1px;overflow: hidden;padding: 0;position: absolute;width: 1px;}#sk-container-id-7 div.sk-estimator {font-family: monospace;background-color: #f0f8ff;border: 1px dotted black;border-radius: 0.25em;box-sizing: border-box;margin-bottom: 0.5em;}#sk-container-id-7 div.sk-estimator:hover {background-color: #d4ebff;}#sk-container-id-7 div.sk-parallel-item::after {content: \"\";width: 100%;border-bottom: 1px solid gray;flex-grow: 1;}#sk-container-id-7 div.sk-label:hover label.sk-toggleable__label {background-color: #d4ebff;}#sk-container-id-7 div.sk-serial::before {content: \"\";position: absolute;border-left: 1px solid gray;box-sizing: border-box;top: 0;bottom: 0;left: 50%;z-index: 0;}#sk-container-id-7 div.sk-serial {display: flex;flex-direction: column;align-items: center;background-color: white;padding-right: 0.2em;padding-left: 0.2em;position: relative;}#sk-container-id-7 div.sk-item {position: relative;z-index: 1;}#sk-container-id-7 div.sk-parallel {display: flex;align-items: stretch;justify-content: center;background-color: white;position: relative;}#sk-container-id-7 div.sk-item::before, #sk-container-id-7 div.sk-parallel-item::before {content: \"\";position: absolute;border-left: 1px solid gray;box-sizing: border-box;top: 0;bottom: 0;left: 50%;z-index: -1;}#sk-container-id-7 div.sk-parallel-item {display: flex;flex-direction: column;z-index: 1;position: relative;background-color: white;}#sk-container-id-7 div.sk-parallel-item:first-child::after {align-self: flex-end;width: 50%;}#sk-container-id-7 div.sk-parallel-item:last-child::after {align-self: flex-start;width: 50%;}#sk-container-id-7 div.sk-parallel-item:only-child::after {width: 0;}#sk-container-id-7 div.sk-dashed-wrapped {border: 1px dashed gray;margin: 0 0.4em 0.5em 0.4em;box-sizing: border-box;padding-bottom: 0.4em;background-color: white;}#sk-container-id-7 div.sk-label label {font-family: monospace;font-weight: bold;display: inline-block;line-height: 1.2em;}#sk-container-id-7 div.sk-label-container {text-align: center;}#sk-container-id-7 div.sk-container {/* jupyter's `normalize.less` sets `[hidden] { display: none; }` but bootstrap.min.css set `[hidden] { display: none !important; }` so we also need the `!important` here to be able to override the default hidden behavior on the sphinx rendered scikit-learn.org. See: https://github.com/scikit-learn/scikit-learn/issues/21755 */display: inline-block !important;position: relative;}#sk-container-id-7 div.sk-text-repr-fallback {display: none;}</style><div id=\"sk-container-id-7\" class=\"sk-top-container\"><div class=\"sk-text-repr-fallback\"><pre>AdaBoostClassifier(estimator=LogisticRegression(C=100), learning_rate=0.5,\n",
       "                   n_estimators=100)</pre><b>In a Jupyter environment, please rerun this cell to show the HTML representation or trust the notebook. <br />On GitHub, the HTML representation is unable to render, please try loading this page with nbviewer.org.</b></div><div class=\"sk-container\" hidden><div class=\"sk-item sk-dashed-wrapped\"><div class=\"sk-label-container\"><div class=\"sk-label sk-toggleable\"><input class=\"sk-toggleable__control sk-hidden--visually\" id=\"sk-estimator-id-9\" type=\"checkbox\" ><label for=\"sk-estimator-id-9\" class=\"sk-toggleable__label sk-toggleable__label-arrow\">AdaBoostClassifier</label><div class=\"sk-toggleable__content\"><pre>AdaBoostClassifier(estimator=LogisticRegression(C=100), learning_rate=0.5,\n",
       "                   n_estimators=100)</pre></div></div></div><div class=\"sk-parallel\"><div class=\"sk-parallel-item\"><div class=\"sk-item\"><div class=\"sk-label-container\"><div class=\"sk-label sk-toggleable\"><input class=\"sk-toggleable__control sk-hidden--visually\" id=\"sk-estimator-id-10\" type=\"checkbox\" ><label for=\"sk-estimator-id-10\" class=\"sk-toggleable__label sk-toggleable__label-arrow\">estimator: LogisticRegression</label><div class=\"sk-toggleable__content\"><pre>LogisticRegression(C=100)</pre></div></div></div><div class=\"sk-serial\"><div class=\"sk-item\"><div class=\"sk-estimator sk-toggleable\"><input class=\"sk-toggleable__control sk-hidden--visually\" id=\"sk-estimator-id-11\" type=\"checkbox\" ><label for=\"sk-estimator-id-11\" class=\"sk-toggleable__label sk-toggleable__label-arrow\">LogisticRegression</label><div class=\"sk-toggleable__content\"><pre>LogisticRegression(C=100)</pre></div></div></div></div></div></div></div></div></div></div>"
      ],
      "text/plain": [
       "AdaBoostClassifier(estimator=LogisticRegression(C=100), learning_rate=0.5,\n",
       "                   n_estimators=100)"
      ]
     },
     "execution_count": 75,
     "metadata": {},
     "output_type": "execute_result"
    }
   ],
   "source": [
    "clf.fit(x_train, y_train)"
   ]
  },
  {
   "cell_type": "code",
   "execution_count": 76,
   "id": "d9d3d7a3",
   "metadata": {},
   "outputs": [
    {
     "data": {
      "text/html": [
       "<style>#sk-container-id-8 {color: black;background-color: white;}#sk-container-id-8 pre{padding: 0;}#sk-container-id-8 div.sk-toggleable {background-color: white;}#sk-container-id-8 label.sk-toggleable__label {cursor: pointer;display: block;width: 100%;margin-bottom: 0;padding: 0.3em;box-sizing: border-box;text-align: center;}#sk-container-id-8 label.sk-toggleable__label-arrow:before {content: \"▸\";float: left;margin-right: 0.25em;color: #696969;}#sk-container-id-8 label.sk-toggleable__label-arrow:hover:before {color: black;}#sk-container-id-8 div.sk-estimator:hover label.sk-toggleable__label-arrow:before {color: black;}#sk-container-id-8 div.sk-toggleable__content {max-height: 0;max-width: 0;overflow: hidden;text-align: left;background-color: #f0f8ff;}#sk-container-id-8 div.sk-toggleable__content pre {margin: 0.2em;color: black;border-radius: 0.25em;background-color: #f0f8ff;}#sk-container-id-8 input.sk-toggleable__control:checked~div.sk-toggleable__content {max-height: 200px;max-width: 100%;overflow: auto;}#sk-container-id-8 input.sk-toggleable__control:checked~label.sk-toggleable__label-arrow:before {content: \"▾\";}#sk-container-id-8 div.sk-estimator input.sk-toggleable__control:checked~label.sk-toggleable__label {background-color: #d4ebff;}#sk-container-id-8 div.sk-label input.sk-toggleable__control:checked~label.sk-toggleable__label {background-color: #d4ebff;}#sk-container-id-8 input.sk-hidden--visually {border: 0;clip: rect(1px 1px 1px 1px);clip: rect(1px, 1px, 1px, 1px);height: 1px;margin: -1px;overflow: hidden;padding: 0;position: absolute;width: 1px;}#sk-container-id-8 div.sk-estimator {font-family: monospace;background-color: #f0f8ff;border: 1px dotted black;border-radius: 0.25em;box-sizing: border-box;margin-bottom: 0.5em;}#sk-container-id-8 div.sk-estimator:hover {background-color: #d4ebff;}#sk-container-id-8 div.sk-parallel-item::after {content: \"\";width: 100%;border-bottom: 1px solid gray;flex-grow: 1;}#sk-container-id-8 div.sk-label:hover label.sk-toggleable__label {background-color: #d4ebff;}#sk-container-id-8 div.sk-serial::before {content: \"\";position: absolute;border-left: 1px solid gray;box-sizing: border-box;top: 0;bottom: 0;left: 50%;z-index: 0;}#sk-container-id-8 div.sk-serial {display: flex;flex-direction: column;align-items: center;background-color: white;padding-right: 0.2em;padding-left: 0.2em;position: relative;}#sk-container-id-8 div.sk-item {position: relative;z-index: 1;}#sk-container-id-8 div.sk-parallel {display: flex;align-items: stretch;justify-content: center;background-color: white;position: relative;}#sk-container-id-8 div.sk-item::before, #sk-container-id-8 div.sk-parallel-item::before {content: \"\";position: absolute;border-left: 1px solid gray;box-sizing: border-box;top: 0;bottom: 0;left: 50%;z-index: -1;}#sk-container-id-8 div.sk-parallel-item {display: flex;flex-direction: column;z-index: 1;position: relative;background-color: white;}#sk-container-id-8 div.sk-parallel-item:first-child::after {align-self: flex-end;width: 50%;}#sk-container-id-8 div.sk-parallel-item:last-child::after {align-self: flex-start;width: 50%;}#sk-container-id-8 div.sk-parallel-item:only-child::after {width: 0;}#sk-container-id-8 div.sk-dashed-wrapped {border: 1px dashed gray;margin: 0 0.4em 0.5em 0.4em;box-sizing: border-box;padding-bottom: 0.4em;background-color: white;}#sk-container-id-8 div.sk-label label {font-family: monospace;font-weight: bold;display: inline-block;line-height: 1.2em;}#sk-container-id-8 div.sk-label-container {text-align: center;}#sk-container-id-8 div.sk-container {/* jupyter's `normalize.less` sets `[hidden] { display: none; }` but bootstrap.min.css set `[hidden] { display: none !important; }` so we also need the `!important` here to be able to override the default hidden behavior on the sphinx rendered scikit-learn.org. See: https://github.com/scikit-learn/scikit-learn/issues/21755 */display: inline-block !important;position: relative;}#sk-container-id-8 div.sk-text-repr-fallback {display: none;}</style><div id=\"sk-container-id-8\" class=\"sk-top-container\"><div class=\"sk-text-repr-fallback\"><pre>SGDClassifier()</pre><b>In a Jupyter environment, please rerun this cell to show the HTML representation or trust the notebook. <br />On GitHub, the HTML representation is unable to render, please try loading this page with nbviewer.org.</b></div><div class=\"sk-container\" hidden><div class=\"sk-item\"><div class=\"sk-estimator sk-toggleable\"><input class=\"sk-toggleable__control sk-hidden--visually\" id=\"sk-estimator-id-12\" type=\"checkbox\" checked><label for=\"sk-estimator-id-12\" class=\"sk-toggleable__label sk-toggleable__label-arrow\">SGDClassifier</label><div class=\"sk-toggleable__content\"><pre>SGDClassifier()</pre></div></div></div></div></div>"
      ],
      "text/plain": [
       "SGDClassifier()"
      ]
     },
     "execution_count": 76,
     "metadata": {},
     "output_type": "execute_result"
    }
   ],
   "source": [
    "SVM.fit(x_train, y_train)"
   ]
  },
  {
   "cell_type": "code",
   "execution_count": 77,
   "id": "699182df",
   "metadata": {},
   "outputs": [],
   "source": [
    "y_pred_clf = clf.predict(x_test)\n",
    "y_pred_logit = logit.predict(x_test)\n",
    "y_pred_rd_forest = rd_forest.predict(x_test)\n",
    "y_pred_SVM = SVM.predict(x_test)"
   ]
  },
  {
   "cell_type": "code",
   "execution_count": 127,
   "id": "ba260c16",
   "metadata": {},
   "outputs": [
    {
     "name": "stdout",
     "output_type": "stream",
     "text": [
      "              precision    recall  f1-score   support\n",
      "\n",
      "           0       0.91      0.96      0.94       369\n",
      "           1       0.95      0.90      0.92       328\n",
      "\n",
      "    accuracy                           0.93       697\n",
      "   macro avg       0.93      0.93      0.93       697\n",
      "weighted avg       0.93      0.93      0.93       697\n",
      "\n"
     ]
    }
   ],
   "source": [
    "print(classification_report(y_test, y_pred_clf))"
   ]
  },
  {
   "cell_type": "code",
   "execution_count": 128,
   "id": "eb3c755d",
   "metadata": {},
   "outputs": [
    {
     "name": "stdout",
     "output_type": "stream",
     "text": [
      "              precision    recall  f1-score   support\n",
      "\n",
      "           0       0.93      0.96      0.95       369\n",
      "           1       0.95      0.92      0.94       328\n",
      "\n",
      "    accuracy                           0.94       697\n",
      "   macro avg       0.94      0.94      0.94       697\n",
      "weighted avg       0.94      0.94      0.94       697\n",
      "\n"
     ]
    }
   ],
   "source": [
    "print(classification_report(y_test, y_pred_logit))"
   ]
  },
  {
   "cell_type": "code",
   "execution_count": 129,
   "id": "f93f1c9c",
   "metadata": {},
   "outputs": [
    {
     "name": "stdout",
     "output_type": "stream",
     "text": [
      "              precision    recall  f1-score   support\n",
      "\n",
      "           0       0.94      0.96      0.95       369\n",
      "           1       0.96      0.93      0.94       328\n",
      "\n",
      "    accuracy                           0.95       697\n",
      "   macro avg       0.95      0.95      0.95       697\n",
      "weighted avg       0.95      0.95      0.95       697\n",
      "\n"
     ]
    }
   ],
   "source": [
    "print(classification_report(y_test, y_pred_rd_forest))"
   ]
  },
  {
   "cell_type": "code",
   "execution_count": 130,
   "id": "e95a30b0",
   "metadata": {},
   "outputs": [
    {
     "name": "stdout",
     "output_type": "stream",
     "text": [
      "              precision    recall  f1-score   support\n",
      "\n",
      "           0       0.89      0.94      0.91       369\n",
      "           1       0.93      0.87      0.90       328\n",
      "\n",
      "    accuracy                           0.91       697\n",
      "   macro avg       0.91      0.90      0.91       697\n",
      "weighted avg       0.91      0.91      0.91       697\n",
      "\n"
     ]
    }
   ],
   "source": [
    "print(classification_report(y_test, y_pred_SVM))"
   ]
  },
  {
   "cell_type": "code",
   "execution_count": 131,
   "id": "05c65190",
   "metadata": {},
   "outputs": [],
   "source": [
    "df_result = pd.read_csv(\"test.csv\")\n",
    "X_result = df_result.iloc[:, 1:-1]"
   ]
  },
  {
   "cell_type": "code",
   "execution_count": 88,
   "id": "e24b54ff",
   "metadata": {},
   "outputs": [
    {
     "data": {
      "text/html": [
       "<div>\n",
       "<style scoped>\n",
       "    .dataframe tbody tr th:only-of-type {\n",
       "        vertical-align: middle;\n",
       "    }\n",
       "\n",
       "    .dataframe tbody tr th {\n",
       "        vertical-align: top;\n",
       "    }\n",
       "\n",
       "    .dataframe thead th {\n",
       "        text-align: right;\n",
       "    }\n",
       "</style>\n",
       "<table border=\"1\" class=\"dataframe\">\n",
       "  <thead>\n",
       "    <tr style=\"text-align: right;\">\n",
       "      <th></th>\n",
       "      <th>mfcc_mean1</th>\n",
       "      <th>mfcc_mean2</th>\n",
       "      <th>mfcc_mean3</th>\n",
       "      <th>mfcc_mean4</th>\n",
       "      <th>mfcc_mean5</th>\n",
       "      <th>mfcc_mean6</th>\n",
       "      <th>mfcc_mean7</th>\n",
       "      <th>mfcc_mean8</th>\n",
       "      <th>mfcc_mean9</th>\n",
       "      <th>mfcc_mean10</th>\n",
       "      <th>...</th>\n",
       "      <th>mfcc_std16</th>\n",
       "      <th>mfcc_std17</th>\n",
       "      <th>mfcc_std18</th>\n",
       "      <th>mfcc_std19</th>\n",
       "      <th>mfcc_std20</th>\n",
       "      <th>cent_mean</th>\n",
       "      <th>cent_std</th>\n",
       "      <th>cent_skew</th>\n",
       "      <th>rolloff_mean</th>\n",
       "      <th>rolloff_std</th>\n",
       "    </tr>\n",
       "  </thead>\n",
       "  <tbody>\n",
       "    <tr>\n",
       "      <th>0</th>\n",
       "      <td>-495.62723</td>\n",
       "      <td>81.183710</td>\n",
       "      <td>1.594539</td>\n",
       "      <td>29.115295</td>\n",
       "      <td>-4.104828</td>\n",
       "      <td>7.492647</td>\n",
       "      <td>-1.469902</td>\n",
       "      <td>7.632004</td>\n",
       "      <td>-3.318697</td>\n",
       "      <td>3.421593</td>\n",
       "      <td>...</td>\n",
       "      <td>10.342658</td>\n",
       "      <td>5.448217</td>\n",
       "      <td>6.600827</td>\n",
       "      <td>5.392629</td>\n",
       "      <td>5.709760</td>\n",
       "      <td>1651.372555</td>\n",
       "      <td>1064.234980</td>\n",
       "      <td>1.429588</td>\n",
       "      <td>3380.210449</td>\n",
       "      <td>1643.595855</td>\n",
       "    </tr>\n",
       "    <tr>\n",
       "      <th>1</th>\n",
       "      <td>-601.48920</td>\n",
       "      <td>77.305840</td>\n",
       "      <td>26.046585</td>\n",
       "      <td>27.844090</td>\n",
       "      <td>1.885911</td>\n",
       "      <td>5.209487</td>\n",
       "      <td>-3.427303</td>\n",
       "      <td>5.228904</td>\n",
       "      <td>0.742163</td>\n",
       "      <td>5.641624</td>\n",
       "      <td>...</td>\n",
       "      <td>7.781601</td>\n",
       "      <td>5.004192</td>\n",
       "      <td>6.337066</td>\n",
       "      <td>5.048322</td>\n",
       "      <td>5.901637</td>\n",
       "      <td>1464.731393</td>\n",
       "      <td>892.500959</td>\n",
       "      <td>1.907080</td>\n",
       "      <td>3261.781820</td>\n",
       "      <td>1604.861048</td>\n",
       "    </tr>\n",
       "    <tr>\n",
       "      <th>2</th>\n",
       "      <td>-510.97247</td>\n",
       "      <td>94.028206</td>\n",
       "      <td>-0.028242</td>\n",
       "      <td>27.325160</td>\n",
       "      <td>-7.126594</td>\n",
       "      <td>6.687743</td>\n",
       "      <td>-5.592118</td>\n",
       "      <td>6.012521</td>\n",
       "      <td>3.481522</td>\n",
       "      <td>3.813088</td>\n",
       "      <td>...</td>\n",
       "      <td>6.337800</td>\n",
       "      <td>5.082880</td>\n",
       "      <td>5.494977</td>\n",
       "      <td>7.392568</td>\n",
       "      <td>5.420835</td>\n",
       "      <td>1608.648572</td>\n",
       "      <td>1043.918670</td>\n",
       "      <td>0.621692</td>\n",
       "      <td>3317.936657</td>\n",
       "      <td>2053.706874</td>\n",
       "    </tr>\n",
       "    <tr>\n",
       "      <th>3</th>\n",
       "      <td>-577.55164</td>\n",
       "      <td>64.389244</td>\n",
       "      <td>17.996605</td>\n",
       "      <td>21.222319</td>\n",
       "      <td>-0.751681</td>\n",
       "      <td>8.161698</td>\n",
       "      <td>2.665672</td>\n",
       "      <td>8.443647</td>\n",
       "      <td>6.687653</td>\n",
       "      <td>5.114984</td>\n",
       "      <td>...</td>\n",
       "      <td>7.964971</td>\n",
       "      <td>4.464272</td>\n",
       "      <td>6.431951</td>\n",
       "      <td>3.316650</td>\n",
       "      <td>3.276715</td>\n",
       "      <td>1507.763557</td>\n",
       "      <td>894.455457</td>\n",
       "      <td>1.977395</td>\n",
       "      <td>3228.136190</td>\n",
       "      <td>1380.720097</td>\n",
       "    </tr>\n",
       "    <tr>\n",
       "      <th>4</th>\n",
       "      <td>-504.74970</td>\n",
       "      <td>110.945465</td>\n",
       "      <td>-6.109226</td>\n",
       "      <td>26.858955</td>\n",
       "      <td>-8.610896</td>\n",
       "      <td>9.381459</td>\n",
       "      <td>-4.851646</td>\n",
       "      <td>7.885846</td>\n",
       "      <td>-1.336644</td>\n",
       "      <td>0.231714</td>\n",
       "      <td>...</td>\n",
       "      <td>7.798015</td>\n",
       "      <td>7.101612</td>\n",
       "      <td>5.459076</td>\n",
       "      <td>4.190422</td>\n",
       "      <td>3.937598</td>\n",
       "      <td>1498.658161</td>\n",
       "      <td>1221.100004</td>\n",
       "      <td>1.419302</td>\n",
       "      <td>2925.496952</td>\n",
       "      <td>2037.058329</td>\n",
       "    </tr>\n",
       "    <tr>\n",
       "      <th>...</th>\n",
       "      <td>...</td>\n",
       "      <td>...</td>\n",
       "      <td>...</td>\n",
       "      <td>...</td>\n",
       "      <td>...</td>\n",
       "      <td>...</td>\n",
       "      <td>...</td>\n",
       "      <td>...</td>\n",
       "      <td>...</td>\n",
       "      <td>...</td>\n",
       "      <td>...</td>\n",
       "      <td>...</td>\n",
       "      <td>...</td>\n",
       "      <td>...</td>\n",
       "      <td>...</td>\n",
       "      <td>...</td>\n",
       "      <td>...</td>\n",
       "      <td>...</td>\n",
       "      <td>...</td>\n",
       "      <td>...</td>\n",
       "      <td>...</td>\n",
       "    </tr>\n",
       "    <tr>\n",
       "      <th>3408</th>\n",
       "      <td>-523.24554</td>\n",
       "      <td>69.272390</td>\n",
       "      <td>11.020937</td>\n",
       "      <td>27.752268</td>\n",
       "      <td>3.869794</td>\n",
       "      <td>10.757477</td>\n",
       "      <td>-1.150927</td>\n",
       "      <td>9.536394</td>\n",
       "      <td>0.071508</td>\n",
       "      <td>2.150174</td>\n",
       "      <td>...</td>\n",
       "      <td>5.801632</td>\n",
       "      <td>3.748371</td>\n",
       "      <td>6.873589</td>\n",
       "      <td>4.775026</td>\n",
       "      <td>5.597802</td>\n",
       "      <td>1723.557587</td>\n",
       "      <td>979.400600</td>\n",
       "      <td>1.293535</td>\n",
       "      <td>3641.852824</td>\n",
       "      <td>1599.072758</td>\n",
       "    </tr>\n",
       "    <tr>\n",
       "      <th>3409</th>\n",
       "      <td>-434.61786</td>\n",
       "      <td>82.055170</td>\n",
       "      <td>-7.900979</td>\n",
       "      <td>22.883240</td>\n",
       "      <td>0.809252</td>\n",
       "      <td>5.232460</td>\n",
       "      <td>0.446307</td>\n",
       "      <td>4.846217</td>\n",
       "      <td>-8.800628</td>\n",
       "      <td>-0.780675</td>\n",
       "      <td>...</td>\n",
       "      <td>7.622484</td>\n",
       "      <td>8.251905</td>\n",
       "      <td>5.372429</td>\n",
       "      <td>5.639769</td>\n",
       "      <td>4.639079</td>\n",
       "      <td>1485.664638</td>\n",
       "      <td>940.663231</td>\n",
       "      <td>1.257874</td>\n",
       "      <td>2952.471313</td>\n",
       "      <td>1585.285630</td>\n",
       "    </tr>\n",
       "    <tr>\n",
       "      <th>3410</th>\n",
       "      <td>-503.56990</td>\n",
       "      <td>25.719360</td>\n",
       "      <td>6.686260</td>\n",
       "      <td>16.090012</td>\n",
       "      <td>3.362235</td>\n",
       "      <td>9.102875</td>\n",
       "      <td>-3.528343</td>\n",
       "      <td>1.984147</td>\n",
       "      <td>-0.272554</td>\n",
       "      <td>2.024660</td>\n",
       "      <td>...</td>\n",
       "      <td>6.683687</td>\n",
       "      <td>4.462136</td>\n",
       "      <td>5.568662</td>\n",
       "      <td>3.520132</td>\n",
       "      <td>3.743933</td>\n",
       "      <td>1685.867292</td>\n",
       "      <td>907.012982</td>\n",
       "      <td>1.677187</td>\n",
       "      <td>3786.205037</td>\n",
       "      <td>1490.614635</td>\n",
       "    </tr>\n",
       "    <tr>\n",
       "      <th>3411</th>\n",
       "      <td>-584.67600</td>\n",
       "      <td>64.407670</td>\n",
       "      <td>25.802309</td>\n",
       "      <td>27.096209</td>\n",
       "      <td>7.304740</td>\n",
       "      <td>10.648228</td>\n",
       "      <td>1.088120</td>\n",
       "      <td>4.132356</td>\n",
       "      <td>0.491814</td>\n",
       "      <td>2.911443</td>\n",
       "      <td>...</td>\n",
       "      <td>5.654293</td>\n",
       "      <td>3.347367</td>\n",
       "      <td>4.084435</td>\n",
       "      <td>3.288080</td>\n",
       "      <td>3.617672</td>\n",
       "      <td>1441.681768</td>\n",
       "      <td>812.969990</td>\n",
       "      <td>1.937356</td>\n",
       "      <td>3311.726888</td>\n",
       "      <td>1407.112886</td>\n",
       "    </tr>\n",
       "    <tr>\n",
       "      <th>3412</th>\n",
       "      <td>-490.27010</td>\n",
       "      <td>79.873270</td>\n",
       "      <td>28.041407</td>\n",
       "      <td>24.541060</td>\n",
       "      <td>6.024747</td>\n",
       "      <td>12.033277</td>\n",
       "      <td>1.444950</td>\n",
       "      <td>9.178739</td>\n",
       "      <td>3.843860</td>\n",
       "      <td>8.225653</td>\n",
       "      <td>...</td>\n",
       "      <td>4.321621</td>\n",
       "      <td>4.458289</td>\n",
       "      <td>5.587299</td>\n",
       "      <td>3.244294</td>\n",
       "      <td>5.019966</td>\n",
       "      <td>1142.986093</td>\n",
       "      <td>790.770578</td>\n",
       "      <td>1.687862</td>\n",
       "      <td>2497.133789</td>\n",
       "      <td>1722.050821</td>\n",
       "    </tr>\n",
       "  </tbody>\n",
       "</table>\n",
       "<p>3413 rows × 45 columns</p>\n",
       "</div>"
      ],
      "text/plain": [
       "      mfcc_mean1  mfcc_mean2  mfcc_mean3  mfcc_mean4  mfcc_mean5  mfcc_mean6  \\\n",
       "0     -495.62723   81.183710    1.594539   29.115295   -4.104828    7.492647   \n",
       "1     -601.48920   77.305840   26.046585   27.844090    1.885911    5.209487   \n",
       "2     -510.97247   94.028206   -0.028242   27.325160   -7.126594    6.687743   \n",
       "3     -577.55164   64.389244   17.996605   21.222319   -0.751681    8.161698   \n",
       "4     -504.74970  110.945465   -6.109226   26.858955   -8.610896    9.381459   \n",
       "...          ...         ...         ...         ...         ...         ...   \n",
       "3408  -523.24554   69.272390   11.020937   27.752268    3.869794   10.757477   \n",
       "3409  -434.61786   82.055170   -7.900979   22.883240    0.809252    5.232460   \n",
       "3410  -503.56990   25.719360    6.686260   16.090012    3.362235    9.102875   \n",
       "3411  -584.67600   64.407670   25.802309   27.096209    7.304740   10.648228   \n",
       "3412  -490.27010   79.873270   28.041407   24.541060    6.024747   12.033277   \n",
       "\n",
       "      mfcc_mean7  mfcc_mean8  mfcc_mean9  mfcc_mean10  ...  mfcc_std16  \\\n",
       "0      -1.469902    7.632004   -3.318697     3.421593  ...   10.342658   \n",
       "1      -3.427303    5.228904    0.742163     5.641624  ...    7.781601   \n",
       "2      -5.592118    6.012521    3.481522     3.813088  ...    6.337800   \n",
       "3       2.665672    8.443647    6.687653     5.114984  ...    7.964971   \n",
       "4      -4.851646    7.885846   -1.336644     0.231714  ...    7.798015   \n",
       "...          ...         ...         ...          ...  ...         ...   \n",
       "3408   -1.150927    9.536394    0.071508     2.150174  ...    5.801632   \n",
       "3409    0.446307    4.846217   -8.800628    -0.780675  ...    7.622484   \n",
       "3410   -3.528343    1.984147   -0.272554     2.024660  ...    6.683687   \n",
       "3411    1.088120    4.132356    0.491814     2.911443  ...    5.654293   \n",
       "3412    1.444950    9.178739    3.843860     8.225653  ...    4.321621   \n",
       "\n",
       "      mfcc_std17  mfcc_std18  mfcc_std19  mfcc_std20    cent_mean  \\\n",
       "0       5.448217    6.600827    5.392629    5.709760  1651.372555   \n",
       "1       5.004192    6.337066    5.048322    5.901637  1464.731393   \n",
       "2       5.082880    5.494977    7.392568    5.420835  1608.648572   \n",
       "3       4.464272    6.431951    3.316650    3.276715  1507.763557   \n",
       "4       7.101612    5.459076    4.190422    3.937598  1498.658161   \n",
       "...          ...         ...         ...         ...          ...   \n",
       "3408    3.748371    6.873589    4.775026    5.597802  1723.557587   \n",
       "3409    8.251905    5.372429    5.639769    4.639079  1485.664638   \n",
       "3410    4.462136    5.568662    3.520132    3.743933  1685.867292   \n",
       "3411    3.347367    4.084435    3.288080    3.617672  1441.681768   \n",
       "3412    4.458289    5.587299    3.244294    5.019966  1142.986093   \n",
       "\n",
       "         cent_std  cent_skew  rolloff_mean  rolloff_std  \n",
       "0     1064.234980   1.429588   3380.210449  1643.595855  \n",
       "1      892.500959   1.907080   3261.781820  1604.861048  \n",
       "2     1043.918670   0.621692   3317.936657  2053.706874  \n",
       "3      894.455457   1.977395   3228.136190  1380.720097  \n",
       "4     1221.100004   1.419302   2925.496952  2037.058329  \n",
       "...           ...        ...           ...          ...  \n",
       "3408   979.400600   1.293535   3641.852824  1599.072758  \n",
       "3409   940.663231   1.257874   2952.471313  1585.285630  \n",
       "3410   907.012982   1.677187   3786.205037  1490.614635  \n",
       "3411   812.969990   1.937356   3311.726888  1407.112886  \n",
       "3412   790.770578   1.687862   2497.133789  1722.050821  \n",
       "\n",
       "[3413 rows x 45 columns]"
      ]
     },
     "execution_count": 88,
     "metadata": {},
     "output_type": "execute_result"
    }
   ],
   "source": [
    "X_result"
   ]
  },
  {
   "cell_type": "code",
   "execution_count": 89,
   "id": "41d3a4c3",
   "metadata": {},
   "outputs": [],
   "source": [
    "X_result_new = X_result.loc[:, selector.support_]"
   ]
  },
  {
   "cell_type": "code",
   "execution_count": 91,
   "id": "5bc9154d",
   "metadata": {},
   "outputs": [
    {
     "name": "stderr",
     "output_type": "stream",
     "text": [
      "M:\\Anaconda\\lib\\site-packages\\sklearn\\base.py:432: UserWarning: X has feature names, but StandardScaler was fitted without feature names\n",
      "  warnings.warn(\n"
     ]
    },
    {
     "data": {
      "text/plain": [
       "(3413, 35)"
      ]
     },
     "execution_count": 91,
     "metadata": {},
     "output_type": "execute_result"
    }
   ],
   "source": [
    "X_result_sd_new = sc.transform(X_result_new)"
   ]
  },
  {
   "cell_type": "code",
   "execution_count": 92,
   "id": "30a5b85f",
   "metadata": {},
   "outputs": [],
   "source": [
    "label_result = logit.predict(X_result_sd_new)"
   ]
  },
  {
   "cell_type": "code",
   "execution_count": 121,
   "id": "dcfbc1e7",
   "metadata": {},
   "outputs": [
    {
     "data": {
      "text/html": [
       "<div>\n",
       "<style scoped>\n",
       "    .dataframe tbody tr th:only-of-type {\n",
       "        vertical-align: middle;\n",
       "    }\n",
       "\n",
       "    .dataframe tbody tr th {\n",
       "        vertical-align: top;\n",
       "    }\n",
       "\n",
       "    .dataframe thead th {\n",
       "        text-align: right;\n",
       "    }\n",
       "</style>\n",
       "<table border=\"1\" class=\"dataframe\">\n",
       "  <thead>\n",
       "    <tr style=\"text-align: right;\">\n",
       "      <th></th>\n",
       "      <th>filename</th>\n",
       "      <th>target</th>\n",
       "    </tr>\n",
       "  </thead>\n",
       "  <tbody>\n",
       "    <tr>\n",
       "      <th>0</th>\n",
       "      <td>00100026dbdffcd01cde6ee9b9a9d273</td>\n",
       "      <td>1</td>\n",
       "    </tr>\n",
       "    <tr>\n",
       "      <th>1</th>\n",
       "      <td>0014278276a6cc05fe8c522af0a677df</td>\n",
       "      <td>1</td>\n",
       "    </tr>\n",
       "    <tr>\n",
       "      <th>2</th>\n",
       "      <td>0026e20266ceba9cdda2c116e89d2f3b</td>\n",
       "      <td>1</td>\n",
       "    </tr>\n",
       "    <tr>\n",
       "      <th>3</th>\n",
       "      <td>008b37fc832d3dfad9105961c5801c02</td>\n",
       "      <td>1</td>\n",
       "    </tr>\n",
       "    <tr>\n",
       "      <th>4</th>\n",
       "      <td>00b1d7d0d6fdb25050041f6e2ae2871e</td>\n",
       "      <td>0</td>\n",
       "    </tr>\n",
       "    <tr>\n",
       "      <th>...</th>\n",
       "      <td>...</td>\n",
       "      <td>...</td>\n",
       "    </tr>\n",
       "    <tr>\n",
       "      <th>3408</th>\n",
       "      <td>ffbea6a332d113f0bd16cf0b4ed07dc6</td>\n",
       "      <td>0</td>\n",
       "    </tr>\n",
       "    <tr>\n",
       "      <th>3409</th>\n",
       "      <td>ffee25334e0247dd07d80d0eb3ce7886</td>\n",
       "      <td>0</td>\n",
       "    </tr>\n",
       "    <tr>\n",
       "      <th>3410</th>\n",
       "      <td>fff86627949b37d236237ff895ff4268</td>\n",
       "      <td>0</td>\n",
       "    </tr>\n",
       "    <tr>\n",
       "      <th>3411</th>\n",
       "      <td>fff8aa9bac38e85734f64aad2b2f3814</td>\n",
       "      <td>0</td>\n",
       "    </tr>\n",
       "    <tr>\n",
       "      <th>3412</th>\n",
       "      <td>fff9ce1e4dc051383dc49e2f24547b56</td>\n",
       "      <td>0</td>\n",
       "    </tr>\n",
       "  </tbody>\n",
       "</table>\n",
       "<p>3413 rows × 2 columns</p>\n",
       "</div>"
      ],
      "text/plain": [
       "                              filename  target\n",
       "0     00100026dbdffcd01cde6ee9b9a9d273       1\n",
       "1     0014278276a6cc05fe8c522af0a677df       1\n",
       "2     0026e20266ceba9cdda2c116e89d2f3b       1\n",
       "3     008b37fc832d3dfad9105961c5801c02       1\n",
       "4     00b1d7d0d6fdb25050041f6e2ae2871e       0\n",
       "...                                ...     ...\n",
       "3408  ffbea6a332d113f0bd16cf0b4ed07dc6       0\n",
       "3409  ffee25334e0247dd07d80d0eb3ce7886       0\n",
       "3410  fff86627949b37d236237ff895ff4268       0\n",
       "3411  fff8aa9bac38e85734f64aad2b2f3814       0\n",
       "3412  fff9ce1e4dc051383dc49e2f24547b56       0\n",
       "\n",
       "[3413 rows x 2 columns]"
      ]
     },
     "execution_count": 121,
     "metadata": {},
     "output_type": "execute_result"
    }
   ],
   "source": [
    "result = df_result\n",
    "result[\"target\"] = label_result\n",
    "result = result.loc[:, [\"filename\", \"target\"]]\n",
    "result[\"filename\"] = result[\"filename\"].str[:-4]\n",
    "result.to_csv(\"result.tsv\", sep=\"\\t\", index=False)\n",
    "result"
   ]
  },
  {
   "cell_type": "code",
   "execution_count": null,
   "id": "636f4fe4",
   "metadata": {},
   "outputs": [],
   "source": [
    "header = ['filename']\n",
    "header.append(\"target\")\n",
    "\n",
    "with open('result.tsv', 'w', newline='') as file:\n",
    "    writer = csv.writer(file, delimiter='\\t', lineterminator=\"\\n\")\n",
    "    writer.writerow(header)\n",
    "    for "
   ]
  },
  {
   "cell_type": "code",
   "execution_count": 40,
   "id": "006ad2a3",
   "metadata": {},
   "outputs": [
    {
     "data": {
      "text/html": [
       "<div>\n",
       "<style scoped>\n",
       "    .dataframe tbody tr th:only-of-type {\n",
       "        vertical-align: middle;\n",
       "    }\n",
       "\n",
       "    .dataframe tbody tr th {\n",
       "        vertical-align: top;\n",
       "    }\n",
       "\n",
       "    .dataframe thead th {\n",
       "        text-align: right;\n",
       "    }\n",
       "</style>\n",
       "<table border=\"1\" class=\"dataframe\">\n",
       "  <thead>\n",
       "    <tr style=\"text-align: right;\">\n",
       "      <th></th>\n",
       "      <th>filename</th>\n",
       "      <th>target</th>\n",
       "    </tr>\n",
       "  </thead>\n",
       "  <tbody>\n",
       "    <tr>\n",
       "      <th>0</th>\n",
       "      <td>9a701a4536a05b6610a590a9fe702ed8</td>\n",
       "      <td>1</td>\n",
       "    </tr>\n",
       "    <tr>\n",
       "      <th>1</th>\n",
       "      <td>cad0b8547008d1524c1a0e5fd51f9908</td>\n",
       "      <td>1</td>\n",
       "    </tr>\n",
       "    <tr>\n",
       "      <th>2</th>\n",
       "      <td>4bbe607e7dc95460e2cc1a6ee5f4dfa6</td>\n",
       "      <td>0</td>\n",
       "    </tr>\n",
       "    <tr>\n",
       "      <th>3</th>\n",
       "      <td>30fb32cba90b34af26f3f14f5d636805</td>\n",
       "      <td>0</td>\n",
       "    </tr>\n",
       "    <tr>\n",
       "      <th>4</th>\n",
       "      <td>fa33445afe71a6dc18e4881c053da5be</td>\n",
       "      <td>0</td>\n",
       "    </tr>\n",
       "    <tr>\n",
       "      <th>...</th>\n",
       "      <td>...</td>\n",
       "      <td>...</td>\n",
       "    </tr>\n",
       "    <tr>\n",
       "      <th>13931</th>\n",
       "      <td>d26e5ebee3589530a4ec735ba1baab83</td>\n",
       "      <td>0</td>\n",
       "    </tr>\n",
       "    <tr>\n",
       "      <th>13932</th>\n",
       "      <td>b9ae9428d4d7d279068aea06365d5736</td>\n",
       "      <td>1</td>\n",
       "    </tr>\n",
       "    <tr>\n",
       "      <th>13933</th>\n",
       "      <td>3da22010bcdd5b47d7f2d3ceea190195</td>\n",
       "      <td>0</td>\n",
       "    </tr>\n",
       "    <tr>\n",
       "      <th>13934</th>\n",
       "      <td>f8ef0441ebf79b817df790bb72d667c4</td>\n",
       "      <td>0</td>\n",
       "    </tr>\n",
       "    <tr>\n",
       "      <th>13935</th>\n",
       "      <td>5d1f7e43366513a1d0a6ec5640c3dc24</td>\n",
       "      <td>1</td>\n",
       "    </tr>\n",
       "  </tbody>\n",
       "</table>\n",
       "<p>13936 rows × 2 columns</p>\n",
       "</div>"
      ],
      "text/plain": [
       "                               filename  target\n",
       "0      9a701a4536a05b6610a590a9fe702ed8       1\n",
       "1      cad0b8547008d1524c1a0e5fd51f9908       1\n",
       "2      4bbe607e7dc95460e2cc1a6ee5f4dfa6       0\n",
       "3      30fb32cba90b34af26f3f14f5d636805       0\n",
       "4      fa33445afe71a6dc18e4881c053da5be       0\n",
       "...                                 ...     ...\n",
       "13931  d26e5ebee3589530a4ec735ba1baab83       0\n",
       "13932  b9ae9428d4d7d279068aea06365d5736       1\n",
       "13933  3da22010bcdd5b47d7f2d3ceea190195       0\n",
       "13934  f8ef0441ebf79b817df790bb72d667c4       0\n",
       "13935  5d1f7e43366513a1d0a6ec5640c3dc24       1\n",
       "\n",
       "[13936 rows x 2 columns]"
      ]
     },
     "execution_count": 40,
     "metadata": {},
     "output_type": "execute_result"
    }
   ],
   "source": [
    "target"
   ]
  },
  {
   "cell_type": "code",
   "execution_count": null,
   "id": "06f0dffc",
   "metadata": {},
   "outputs": [],
   "source": []
  }
 ],
 "metadata": {
  "kernelspec": {
   "display_name": "Python 3 (ipykernel)",
   "language": "python",
   "name": "python3"
  },
  "language_info": {
   "codemirror_mode": {
    "name": "ipython",
    "version": 3
   },
   "file_extension": ".py",
   "mimetype": "text/x-python",
   "name": "python",
   "nbconvert_exporter": "python",
   "pygments_lexer": "ipython3",
   "version": "3.9.13"
  }
 },
 "nbformat": 4,
 "nbformat_minor": 5
}
