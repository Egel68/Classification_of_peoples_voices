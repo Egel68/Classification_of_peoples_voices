{
 "cells": [
  {
   "cell_type": "code",
   "execution_count": 1,
   "id": "7c344b82",
   "metadata": {},
   "outputs": [],
   "source": [
    "import pandas as pd\n",
    "import librosa\n",
    "import numpy as np\n",
    "from sklearn.preprocessing import *\n",
    "from sklearn.ensemble import * \n",
    "from sklearn.feature_selection import *\n",
    "from sklearn.model_selection import *\n",
    "from sklearn.metrics import *\n",
    "from sklearn.linear_model import *\n",
    "from sklearn.pipeline import *"
   ]
  },
  {
   "cell_type": "code",
   "execution_count": 2,
   "id": "6f79e1d4",
   "metadata": {},
   "outputs": [],
   "source": [
    "df = pd.read_csv(\"dataset.csv\")\n",
    "df = df.iloc[:, :-1]\n",
    "df[\"filename\"] = df[\"filename\"].str[:-4]\n",
    "\n",
    "target = pd.read_csv(\"targets.tsv\", sep=\"\\t\")\n",
    "\n",
    "df = df.merge(target)"
   ]
  },
  {
   "cell_type": "code",
   "execution_count": 3,
   "id": "6090d00f",
   "metadata": {},
   "outputs": [],
   "source": [
    "X = df.iloc[:, 1:-1]\n",
    "Y = df.iloc[:, -1]           "
   ]
  },
  {
   "cell_type": "code",
   "execution_count": null,
   "id": "dac53932",
   "metadata": {},
   "outputs": [],
   "source": [
    "rfecv = RFECV(AdaBoostClassifier(learning_rate=1, n_estimators=50), n_jobs=-1)\n",
    "rfecv.fit_transform(X,Y)   "
   ]
  },
  {
   "cell_type": "code",
   "execution_count": 5,
   "id": "82317519",
   "metadata": {},
   "outputs": [],
   "source": [
    "x_train, x_test, y_train, y_test = train_test_split(X, Y, test_size=0.1)"
   ]
  },
  {
   "cell_type": "code",
   "execution_count": 6,
   "id": "506c3929",
   "metadata": {},
   "outputs": [],
   "source": [
    "# feature_handler = Pipeline([\n",
    "#     (\"selector\", RFECV(AdaBoostClassifier(learning_rate=1, n_estimators=50), n_jobs=-1)),\n",
    "#     (\"scaller\", StandardScaler())\n",
    "# ])\n",
    "# feature_handler.fit_transform(x_train, y_train)"
   ]
  },
  {
   "cell_type": "code",
   "execution_count": 7,
   "id": "27b26122",
   "metadata": {
    "scrolled": true
   },
   "outputs": [
    {
     "data": {
      "text/plain": [
       "0.9289813486370158"
      ]
     },
     "execution_count": 7,
     "metadata": {},
     "output_type": "execute_result"
    }
   ],
   "source": [
    "ada = Pipeline([(\"ada\", AdaBoostClassifier(learning_rate=0.5, n_estimators=200))])\n",
    "ada.fit(x_train, y_train)\n",
    "accuracy_ada = accuracy_score(y_test, ada.predict(x_test))\n",
    "accuracy_ada"
   ]
  },
  {
   "cell_type": "code",
   "execution_count": 8,
   "id": "f438fd59",
   "metadata": {},
   "outputs": [
    {
     "data": {
      "text/plain": [
       "0.9713055954088953"
      ]
     },
     "execution_count": 8,
     "metadata": {},
     "output_type": "execute_result"
    }
   ],
   "source": [
    "extra_trees = Pipeline([(\"extra_trees\", ExtraTreesClassifier(criterion=\"gini\", n_estimators=200))])\n",
    "extra_trees.fit(x_train, y_train)\n",
    "accuracy_extra_trees = accuracy_score(y_test, extra_trees.predict(x_test))\n",
    "accuracy_extra_trees"
   ]
  },
  {
   "cell_type": "code",
   "execution_count": 9,
   "id": "7d46ad4c",
   "metadata": {},
   "outputs": [
    {
     "data": {
      "text/plain": [
       "0.9519368723098995"
      ]
     },
     "execution_count": 9,
     "metadata": {},
     "output_type": "execute_result"
    }
   ],
   "source": [
    "GBS = Pipeline([(\"GBS\", GradientBoostingClassifier(loss=\"log_loss\", n_estimators=200))])\n",
    "GBS.fit(x_train, y_train)\n",
    "accuracy_GBS = accuracy_score(y_test, GBS.predict(x_test))\n",
    "accuracy_GBS"
   ]
  },
  {
   "cell_type": "code",
   "execution_count": 10,
   "id": "54ef6b30",
   "metadata": {},
   "outputs": [
    {
     "data": {
      "text/plain": [
       "0.9497847919655668"
      ]
     },
     "execution_count": 10,
     "metadata": {},
     "output_type": "execute_result"
    }
   ],
   "source": [
    "RFC = Pipeline([(\"RFC\", RandomForestClassifier(criterion=\"gini\", n_estimators=200))])\n",
    "RFC.fit(x_train, y_train)\n",
    "accuracy_RFC = accuracy_score(y_test, RFC.predict(x_test))\n",
    "accuracy_RFC"
   ]
  },
  {
   "cell_type": "code",
   "execution_count": 11,
   "id": "5d2bfee8",
   "metadata": {},
   "outputs": [
    {
     "data": {
      "text/plain": [
       "0.4340028694404591"
      ]
     },
     "execution_count": 11,
     "metadata": {},
     "output_type": "execute_result"
    }
   ],
   "source": [
    "IFC = Pipeline([(\"IFC\", IsolationForest())])\n",
    "IFC.fit(x_train, y_train)\n",
    "accuracy_IFC = accuracy_score(y_test, IFC.predict(x_test))\n",
    "accuracy_IFC"
   ]
  },
  {
   "cell_type": "code",
   "execution_count": 12,
   "id": "79a4af3e",
   "metadata": {},
   "outputs": [
    {
     "data": {
      "text/plain": [
       "0.9612625538020086"
      ]
     },
     "execution_count": 12,
     "metadata": {},
     "output_type": "execute_result"
    }
   ],
   "source": [
    "HGBC = Pipeline([(\"HGBC\", HistGradientBoostingClassifier())])\n",
    "HGBC.fit(x_train, y_train)\n",
    "accuracy_HGBC = accuracy_score(y_test, HGBC.predict(x_test))\n",
    "accuracy_HGBC"
   ]
  },
  {
   "cell_type": "code",
   "execution_count": 13,
   "id": "df2470f6",
   "metadata": {},
   "outputs": [
    {
     "data": {
      "text/plain": [
       "0.9763271162123386"
      ]
     },
     "execution_count": 13,
     "metadata": {},
     "output_type": "execute_result"
    }
   ],
   "source": [
    "estimators = [(\"ada\", AdaBoostClassifier()),\n",
    "              (\"extra_trees\", ExtraTreesClassifier()),\n",
    "              (\"GBS\", GradientBoostingClassifier()),\n",
    "               (\"RFC\", RandomForestClassifier()),\n",
    "               (\"HGBC\", HistGradientBoostingClassifier())\n",
    "            ]\n",
    "meta_clf = StackingClassifier(estimators=estimators, n_jobs=-1)\n",
    "meta_clf.fit(x_train, y_train)\n",
    "accuracy_meta_clf = accuracy_score(y_test, meta_clf.predict(x_test))\n",
    "accuracy_meta_clf"
   ]
  },
  {
   "cell_type": "code",
   "execution_count": 14,
   "id": "cdbaa016",
   "metadata": {},
   "outputs": [
    {
     "data": {
      "text/plain": [
       "{'ada__algorithm': 'SAMME', 'ada__learning_rate': 1, 'ada__n_estimators': 200}"
      ]
     },
     "execution_count": 14,
     "metadata": {},
     "output_type": "execute_result"
    }
   ],
   "source": [
    "# param = {\"ada__n_estimators\": [50, 100, 200],\n",
    "#         \"ada__algorithm\": [\"SAMME\", \"SAMME.R\"],\n",
    "#         \"ada__learning_rate\": [0.1, 0.5, 1, 2]}\n",
    "# GS_ada = GridSearchCV(ada, param, n_jobs=-1)\n",
    "# GS_ada.fit(x_test, y_test)\n",
    "# GS_ada.best_params_"
   ]
  },
  {
   "cell_type": "code",
   "execution_count": null,
   "id": "c5127017",
   "metadata": {},
   "outputs": [],
   "source": [
    "# param = {\"extra_trees__n_estimators\": [50, 100, 200],\n",
    "#         \"extra_trees__criterion\": [\"gini\", \"entropy\", \"log_loss\"]\n",
    "#         }\n",
    "# GS_extra_trees = GridSearchCV(extra_trees, param, n_jobs=-1)\n",
    "# GS_extra_trees.fit(x_test, y_test)\n",
    "# GS_extra_trees.best_params_"
   ]
  },
  {
   "cell_type": "code",
   "execution_count": null,
   "id": "616bf011",
   "metadata": {},
   "outputs": [],
   "source": [
    "# param = {\"GBS__n_estimators\": [50, 100, 200],\n",
    "#         \"GBS__loss\" : (\"log_loss\", \"deviance\", \"exponential\")\n",
    "#         }\n",
    "# GS_GBS = GridSearchCV(GBS, param, n_jobs=-1)\n",
    "# GS_GBS.fit(x_test, y_test)\n",
    "# GS_GBS.best_params_"
   ]
  },
  {
   "cell_type": "code",
   "execution_count": null,
   "id": "f09c5b26",
   "metadata": {},
   "outputs": [],
   "source": [
    "# param = {\"RFC__n_estimators\": [50, 100, 200],\n",
    "#         \"RFC__criterion\": [\"gini\", \"entropy\", \"log_loss\"]\n",
    "#         }\n",
    "# GS_RFC = GridSearchCV(RFC, param, n_jobs=-1)\n",
    "# GS_RFC.fit(x_test, y_test)\n",
    "# GS_RFC.best_params_"
   ]
  },
  {
   "cell_type": "code",
   "execution_count": 6,
   "id": "277b9b08",
   "metadata": {},
   "outputs": [
    {
     "data": {
      "text/plain": [
       "<Axes: >"
      ]
     },
     "execution_count": 6,
     "metadata": {},
     "output_type": "execute_result"
    }
   ],
   "source": [
    "X.boxplot(column=columns[6:12])"
   ]
  },
  {
   "cell_type": "code",
   "execution_count": 39,
   "id": "64bcca59",
   "metadata": {},
   "outputs": [
    {
     "data": {
      "text/plain": [
       "'mfcc_mean1'"
      ]
     },
     "execution_count": 39,
     "metadata": {},
     "output_type": "execute_result"
    }
   ],
   "source": [
    "columns[0]"
   ]
  },
  {
   "cell_type": "code",
   "execution_count": 4,
   "id": "7de07e68",
   "metadata": {},
   "outputs": [],
   "source": [
    "columns = [X.columns[::][i] for i in range(X.shape[1])]"
   ]
  },
  {
   "cell_type": "code",
   "execution_count": 29,
   "id": "67f9f59b",
   "metadata": {},
   "outputs": [
    {
     "data": {
      "text/plain": [
       "['mfcc_mean1',\n",
       " 'mfcc_mean2',\n",
       " 'mfcc_mean3',\n",
       " 'mfcc_mean4',\n",
       " 'mfcc_mean5',\n",
       " 'mfcc_mean6',\n",
       " 'mfcc_mean7',\n",
       " 'mfcc_mean8',\n",
       " 'mfcc_mean9',\n",
       " 'mfcc_mean10',\n",
       " 'mfcc_mean11',\n",
       " 'mfcc_mean12',\n",
       " 'mfcc_mean13',\n",
       " 'mfcc_mean14',\n",
       " 'mfcc_mean15',\n",
       " 'mfcc_mean16',\n",
       " 'mfcc_mean17',\n",
       " 'mfcc_mean18',\n",
       " 'mfcc_mean19',\n",
       " 'mfcc_mean20',\n",
       " 'mfcc_std1',\n",
       " 'mfcc_std2',\n",
       " 'mfcc_std3',\n",
       " 'mfcc_std4',\n",
       " 'mfcc_std5',\n",
       " 'mfcc_std6',\n",
       " 'mfcc_std7',\n",
       " 'mfcc_std8',\n",
       " 'mfcc_std9',\n",
       " 'mfcc_std10',\n",
       " 'mfcc_std11',\n",
       " 'mfcc_std12',\n",
       " 'mfcc_std13',\n",
       " 'mfcc_std14',\n",
       " 'mfcc_std15',\n",
       " 'mfcc_std16',\n",
       " 'mfcc_std17',\n",
       " 'mfcc_std18',\n",
       " 'mfcc_std19',\n",
       " 'mfcc_std20',\n",
       " 'cent_mean',\n",
       " 'cent_std',\n",
       " 'cent_skew',\n",
       " 'rolloff_mean',\n",
       " 'rolloff_std']"
      ]
     },
     "execution_count": 29,
     "metadata": {},
     "output_type": "execute_result"
    }
   ],
   "source": [
    "columns"
   ]
  },
  {
   "cell_type": "code",
   "execution_count": null,
   "id": "6a770071",
   "metadata": {},
   "outputs": [],
   "source": []
  }
 ],
 "metadata": {
  "kernelspec": {
   "display_name": "Python 3 (ipykernel)",
   "language": "python",
   "name": "python3"
  },
  "language_info": {
   "codemirror_mode": {
    "name": "ipython",
    "version": 3
   },
   "file_extension": ".py",
   "mimetype": "text/x-python",
   "name": "python",
   "nbconvert_exporter": "python",
   "pygments_lexer": "ipython3",
   "version": "3.9.13"
  }
 },
 "nbformat": 4,
 "nbformat_minor": 5
}
